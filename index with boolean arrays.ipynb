{
 "cells": [
  {
   "cell_type": "code",
   "execution_count": 3,
   "id": "f6693670-1609-4546-88ba-edc83504ff48",
   "metadata": {},
   "outputs": [],
   "source": [
    "import numpy as np"
   ]
  },
  {
   "cell_type": "code",
   "execution_count": 5,
   "id": "853ddd93-a009-4b71-ad65-f79dcd615f5e",
   "metadata": {},
   "outputs": [
    {
     "data": {
      "text/plain": [
       "array([[22, 78, 83, 80, 92],\n",
       "       [97, 52,  0,  3, 50],\n",
       "       [47, 37, 47, 81,  2],\n",
       "       [83, 22, 59, 19, 32]])"
      ]
     },
     "execution_count": 5,
     "metadata": {},
     "output_type": "execute_result"
    }
   ],
   "source": [
    "arr=np.random.randint(low=0,high=100,size=20).reshape(4,5)\n",
    "arr"
   ]
  },
  {
   "cell_type": "code",
   "execution_count": 8,
   "id": "a0636eb0-eda0-4c87-8bff-4632ef15c236",
   "metadata": {},
   "outputs": [
    {
     "data": {
      "text/plain": [
       "array([[78, 83, 80],\n",
       "       [92, 97, 52],\n",
       "       [81, 83, 59]])"
      ]
     },
     "execution_count": 8,
     "metadata": {},
     "output_type": "execute_result"
    }
   ],
   "source": [
    "arr[arr>50].reshape(3,3)    #indexing useing boolean arrays"
   ]
  },
  {
   "cell_type": "code",
   "execution_count": 9,
   "id": "d56a0db5-4046-482d-a4e0-8e97f7ae2e34",
   "metadata": {},
   "outputs": [
    {
     "data": {
      "text/plain": [
       "array([83, 97, 81, 83, 59])"
      ]
     },
     "execution_count": 9,
     "metadata": {},
     "output_type": "execute_result"
    }
   ],
   "source": [
    "arr[(arr>50) & (arr%2!=0)]"
   ]
  },
  {
   "cell_type": "code",
   "execution_count": 10,
   "id": "89c22ce4-47a7-41af-bbdc-90d4da9b5ba6",
   "metadata": {},
   "outputs": [],
   "source": [
    "arr[(arr>50) & (arr%2!=0)]=0"
   ]
  },
  {
   "cell_type": "code",
   "execution_count": 11,
   "id": "06a932db-07d1-423c-93a3-590a818f2d4b",
   "metadata": {},
   "outputs": [
    {
     "data": {
      "text/plain": [
       "array([[22, 78,  0, 80, 92],\n",
       "       [ 0, 52,  0,  3, 50],\n",
       "       [47, 37, 47,  0,  2],\n",
       "       [ 0, 22,  0, 19, 32]])"
      ]
     },
     "execution_count": 11,
     "metadata": {},
     "output_type": "execute_result"
    }
   ],
   "source": [
    "arr"
   ]
  },
  {
   "cell_type": "code",
   "execution_count": 14,
   "id": "ebf0aa70-4ba6-4333-b639-e2851867875a",
   "metadata": {},
   "outputs": [
    {
     "data": {
      "text/plain": [
       "100"
      ]
     },
     "execution_count": 14,
     "metadata": {},
     "output_type": "execute_result"
    }
   ],
   "source": [
    "x=np.linspace(-40,40,100)\n",
    "x.size"
   ]
  },
  {
   "cell_type": "code",
   "execution_count": 15,
   "id": "b82434da-9714-4317-9a44-42a2a74f2e52",
   "metadata": {},
   "outputs": [
    {
     "data": {
      "text/plain": [
       "100"
      ]
     },
     "execution_count": 15,
     "metadata": {},
     "output_type": "execute_result"
    }
   ],
   "source": [
    "y=np.sin(x)\n",
    "y.size"
   ]
  },
  {
   "cell_type": "code",
   "execution_count": 20,
   "id": "5b228486-1858-4832-8e6c-d9f80ce4af7a",
   "metadata": {},
   "outputs": [],
   "source": [
    "import matplotlib.pyplot as plt\n",
    "%matplotlib inline"
   ]
  },
  {
   "cell_type": "code",
   "execution_count": 21,
   "id": "ed8d142d-af60-4618-9d6b-82c26fd99ae6",
   "metadata": {},
   "outputs": [
    {
     "data": {
      "text/plain": [
       "[<matplotlib.lines.Line2D at 0x1c24df189b0>]"
      ]
     },
     "execution_count": 21,
     "metadata": {},
     "output_type": "execute_result"
    }
   ],
   "source": [
    "plt.plot(x,y)"
   ]
  },
  {
   "cell_type": "code",
   "execution_count": 22,
   "id": "96abdf32-adf1-4e9b-bbec-6286ce242722",
   "metadata": {},
   "outputs": [],
   "source": [
    "y=x*x+2*x+6"
   ]
  },
  {
   "cell_type": "code",
   "execution_count": 24,
   "id": "525a77e4-2583-4cce-983a-9378b06a58b3",
   "metadata": {},
   "outputs": [
    {
     "data": {
      "text/plain": [
       "[<matplotlib.lines.Line2D at 0x1c24df47560>]"
      ]
     },
     "execution_count": 24,
     "metadata": {},
     "output_type": "execute_result"
    }
   ],
   "source": [
    "plt.plot(x,y)"
   ]
  },
  {
   "cell_type": "code",
   "execution_count": null,
   "id": "36c52551-9d7e-448d-b836-e8ffcae0f4b3",
   "metadata": {},
   "outputs": [],
   "source": []
  }
 ],
 "metadata": {
  "kernelspec": {
   "display_name": "Python 3 (ipykernel)",
   "language": "python",
   "name": "python3"
  },
  "language_info": {
   "codemirror_mode": {
    "name": "ipython",
    "version": 3
   },
   "file_extension": ".py",
   "mimetype": "text/x-python",
   "name": "python",
   "nbconvert_exporter": "python",
   "pygments_lexer": "ipython3",
   "version": "3.12.7"
  }
 },
 "nbformat": 4,
 "nbformat_minor": 5
}
